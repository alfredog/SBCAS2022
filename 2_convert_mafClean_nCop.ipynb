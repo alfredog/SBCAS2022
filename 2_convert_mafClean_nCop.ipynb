{
  "nbformat": 4,
  "nbformat_minor": 0,
  "metadata": {
    "colab": {
      "name": "2 - convert_mafClean_nCop.ipynb",
      "provenance": [],
      "collapsed_sections": [],
      "mount_file_id": "1GrOpCq4wwImgOxQsTd-GbaIDfv_Vk2zS",
      "authorship_tag": "ABX9TyN3JTmk0lq51z4u+1vU00wU"
    },
    "kernelspec": {
      "name": "python3",
      "display_name": "Python 3"
    },
    "language_info": {
      "name": "python"
    }
  },
  "cells": [
    {
      "cell_type": "markdown",
      "metadata": {
        "id": "xmTQHLMHQ9ek"
      },
      "source": [
        "# Convert MAF file in mutations data nCop"
      ]
    },
    {
      "cell_type": "code",
      "metadata": {
        "id": "FiJPjafBRBU8"
      },
      "source": [
        "import pandas as pd\n",
        "import os\n"
      ],
      "execution_count": null,
      "outputs": []
    },
    {
      "cell_type": "code",
      "metadata": {
        "id": "7i84bifnUZSg"
      },
      "source": [
        "path = '/content/drive/MyDrive/Colab Notebooks/mafs_cBioPortal/Clean/'\n",
        "path_mafs_nCop = '/content/drive/MyDrive/Colab Notebooks/mafs_nCop/'\n"
      ],
      "execution_count": null,
      "outputs": []
    },
    {
      "cell_type": "code",
      "metadata": {
        "id": "mhx_Tm3RVL0C"
      },
      "source": [
        "\"\"\"\n",
        "Gera uma lista com o nome de todos os mafs do diretório\n",
        "\"\"\"\n",
        "def mafs_list_in_dir(path):\n",
        "    l_mafs = []\n",
        "    for _, _, file in os.walk(path):\n",
        "        l_mafs = file\n",
        "    return l_mafs\n",
        "\n",
        "\"\"\"\n",
        "Abre todos os mafs do diretório\n",
        "\"\"\"    \n",
        "def open_mafs(l_mafs_name):\n",
        "    l_mafs_csv = []\n",
        "    for maf in l_mafs_name:\n",
        "        df = pd.read_csv(path+maf, sep='\\t', usecols=[\"Hugo_Symbol\", \"Tumor_Sample_Barcode\"])\n",
        "        l_mafs_csv.append(df)\n",
        "    return l_mafs_csv\n",
        "\n",
        "def convert_mafClean_mafnCop(l_mafs_name):\n",
        "    l_mafs_csv = []\n",
        "    for maf in l_mafs_name:\n",
        "        maf_df = pd.read_csv(path+maf, sep='\\t', usecols=[\"Hugo_Symbol\", \"Tumor_Sample_Barcode\"])\n",
        "        bmm = pd.crosstab(maf_df.Hugo_Symbol, maf_df.Tumor_Sample_Barcode).clip(upper=1)\n",
        "        # Create a new file\n",
        "        new_maf_name = maf\n",
        "        new_maf_name = new_maf_name.replace('.tsv', '.txt')\n",
        "        new_maf_name = new_maf_name.replace('.csv', '.txt')\n",
        "        maf_nCop = open(path_mafs_nCop + new_maf_name, 'w')\n",
        "\n",
        "        lines = []\n",
        "        for gene in list(bmm.index):\n",
        "            line = ''\n",
        "            line = gene + ' '\n",
        "            for patient in list(bmm.columns):\n",
        "                if bmm.loc[gene, patient] > 0:\n",
        "                    line = line + patient + ' '\n",
        "            line = line + '\\n'\n",
        "            lines.append(line)\n",
        "        # Write in new file\n",
        "        maf_nCop.writelines(lines)\n",
        "        maf_nCop.close()\n",
        "    "
      ],
      "execution_count": null,
      "outputs": []
    },
    {
      "cell_type": "code",
      "metadata": {
        "id": "2BwKd3hNUo8l"
      },
      "source": [
        "l_mafs_name = mafs_list_in_dir(path)\n",
        "convert_mafClean_mafnCop(l_mafs_name)\n"
      ],
      "execution_count": null,
      "outputs": []
    },
    {
      "cell_type": "code",
      "metadata": {
        "id": "7WkmkMIc8arZ"
      },
      "source": [
        ""
      ],
      "execution_count": null,
      "outputs": []
    }
  ]
}