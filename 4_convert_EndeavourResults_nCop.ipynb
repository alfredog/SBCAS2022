{
  "nbformat": 4,
  "nbformat_minor": 0,
  "metadata": {
    "colab": {
      "name": "4 - convert_EndeavourResults_nCop.ipynb",
      "provenance": [],
      "collapsed_sections": [],
      "mount_file_id": "1Af0mB7nrDK40fZMz2B6GA03rugtVgklP",
      "authorship_tag": "ABX9TyOy2czfYwPWhy/zXwl8fp+M"
    },
    "kernelspec": {
      "name": "python3",
      "display_name": "Python 3"
    },
    "language_info": {
      "name": "python"
    }
  },
  "cells": [
    {
      "cell_type": "markdown",
      "metadata": {
        "id": "1i0zRxxitVsC"
      },
      "source": [
        "# Convert Endeavour Results in nCop weights\n",
        "\n",
        "Input: \n",
        " - Endeavour Results\n",
        " - nCop weights example\n",
        "\n",
        "Output:\n",
        " - nCop weights"
      ]
    },
    {
      "cell_type": "code",
      "metadata": {
        "id": "RaSA-ndRoJRn"
      },
      "source": [
        "import pandas as pd\n",
        "import os"
      ],
      "execution_count": null,
      "outputs": []
    },
    {
      "cell_type": "code",
      "metadata": {
        "id": "0okxPoiArX3-"
      },
      "source": [
        "path_nCopWeightExample = '/content/drive/MyDrive/Colab Notebooks/enriquecimento/Endeavour/nCopWeightExample/weights.txt'\n",
        "path_EndeavourResults = '/content/drive/MyDrive/Colab Notebooks/enriquecimento/Endeavour/EndeavourResults/'\n",
        "path_nCopWeights = '/content/drive/MyDrive/Colab Notebooks/enriquecimento/Endeavour/nCopWeights/'\n",
        "\n",
        "path_mafs_nCop = '/content/drive/MyDrive/Colab Notebooks/mafs_nCop/'\n",
        "path_nets = '/content/drive/MyDrive/Colab Notebooks/redes/'\n",
        "\n",
        "# Paths Endeavour Results Mutation Frequence, 3%, 5%, 10%\n",
        "path_EndeavourResults3p = '/content/drive/MyDrive/Colab Notebooks/enriquecimento/Endeavour/EndeavourResultsFrequence/3p/'\n",
        "path_EndeavourResults5p = '/content/drive/MyDrive/Colab Notebooks/enriquecimento/Endeavour/EndeavourResultsFrequence/5p/'\n",
        "path_EndeavourResults10p = '/content/drive/MyDrive/Colab Notebooks/enriquecimento/Endeavour/EndeavourResultsFrequence/10p/'\n",
        "\n",
        "path_nCopWeights3p = '/content/drive/MyDrive/Colab Notebooks/enriquecimento/Endeavour/nCopWeightsFrequence/3p/'\n",
        "path_nCopWeights5p = '/content/drive/MyDrive/Colab Notebooks/enriquecimento/Endeavour/nCopWeightsFrequence/5p/'\n",
        "path_nCopWeights10p = '/content/drive/MyDrive/Colab Notebooks/enriquecimento/Endeavour/nCopWeightsFrequence/10p/'\n"
      ],
      "execution_count": null,
      "outputs": []
    },
    {
      "cell_type": "code",
      "metadata": {
        "id": "7ZXaDFfLrdWE"
      },
      "source": [
        "\"\"\"\n",
        "Gera uma lista com o nome de todos os arquivos do diretório (mafs ou redes)\n",
        "\"\"\"\n",
        "def file_list_in_dir(path):\n",
        "    l_files = []\n",
        "    for _, _, file in os.walk(path):\n",
        "        l_files = file\n",
        "    return l_files\n",
        "\n",
        "\"\"\"\n",
        "Abre todos os mafs do diretório\n",
        "\"\"\"    \n",
        "def open_mafs(l_mafs_name):\n",
        "    l_mafs_csv = []\n",
        "    for maf in l_mafs_name:\n",
        "        df = pd.read_csv(path+maf, sep='\\t', usecols=[\"Hugo_Symbol\", \"Tumor_Sample_Barcode\"])\n",
        "        l_mafs_csv.append(df)\n",
        "    return l_mafs_csv"
      ],
      "execution_count": null,
      "outputs": []
    },
    {
      "cell_type": "code",
      "metadata": {
        "id": "ZKl4P9_lt7rQ"
      },
      "source": [
        "\"\"\" \n",
        "Cria um arquivo com a junção da saída do endeavour e arquivo de pesos (weight.txt) do nCop\n",
        "\"\"\"\n",
        "def altera_pvalue_gene(df_weights, df_enric):\n",
        "\n",
        "    df_weights_novo = df_weights.copy()\n",
        "\n",
        "    count = 0\n",
        "    for gene_name in df_enric[\"Gene name\"]:\n",
        "\n",
        "        \"\"\"contador inicio\"\"\"\n",
        "        \"\"\"\n",
        "        count+=1\n",
        "        if count > 5:\n",
        "            break\n",
        "        \"\"\"\n",
        "        \"\"\"contador inicio\"\"\"\n",
        "\n",
        "        p_value_enric = df_enric.loc[df_enric[\"Gene name\"] == gene_name][\"P-value\"].values\n",
        "        p_value_weights_antes = df_weights_novo.loc[df_weights_novo[\"Gene name\"] == gene_name][\"P-value\"].values\n",
        "        # Altera o p-value do weights: aqui coloquei o indice 0 pois pode haver dois genes com p-values diferentes no enriquecimento, assim pega só o primeiro\n",
        "        df_weights_novo.loc[df_weights_novo[\"Gene name\"] == gene_name, \"P-value\"] = float(p_value_enric[0])\n",
        "        p_value_weights_depois = df_weights_novo.loc[df_weights_novo[\"Gene name\"] == gene_name][\"P-value\"].values\n",
        "\n",
        "        \"\"\" verifica o tipo de dados de cada coluna de cada dataframe \"\"\"\n",
        "        #print(df_weights_novo.info())\n",
        "        #print(df_enric.info())\n",
        "        \n",
        "        \"\"\"\n",
        "        print(\"Gene: \" + gene_name)\n",
        "        print(\"P-value enric \" + str(p_value_enric))\n",
        "        print(\"P-value weights antes \" + str(p_value_weights_antes))\n",
        "        print(\"P-value weights depois \" + str(p_value_weights_depois))\n",
        "        print(\"**************************************************\")\n",
        "        \"\"\"\n",
        "\n",
        "    return df_weights_novo\n",
        "\n",
        "\"\"\"\n",
        "Gerar uma lista ponderada com dados de enriquecimento, em cima de todos os 19.454 genes da lista de weigth do nCop\n",
        "\"\"\"\n",
        "def enriquece_weights_ncop(path_nCopWeightExample, path_EndeavourResults, path_nCopWeights):\n",
        "    \n",
        "    endeavourResults = file_list_in_dir(path_EndeavourResults)\n",
        "    \n",
        "    for endeavourResultNameFile in endeavourResults:\n",
        "        dfnCopWeightExample = pd.read_csv(path_nCopWeightExample, sep=\"\\s+\", header=None, names=[\"Gene name\", \"P-value\"]) \n",
        "        dfEndeavourResults = pd.read_csv(path_EndeavourResults+endeavourResultNameFile, sep=',')\n",
        "        dfnCopWeightExampleCopy = dfnCopWeightExample.copy()\n",
        "        \"\"\"\n",
        "        Converte as colunas p-value para numérico\n",
        "        \"\"\"\n",
        "        dfnCopWeightExampleCopy[\"P-value\"] = pd.to_numeric(dfnCopWeightExampleCopy[\"P-value\"])\n",
        "        dfEndeavourResults[\"P-value\"] = pd.to_numeric(dfEndeavourResults[\"P-value\"])\n",
        "\n",
        "        \"\"\"\n",
        "        Altera o p-value do df_weights nCop de acordo com o p-value do enriquecimento\n",
        "        \"\"\"\n",
        "        dfnCopWeightExampleNew = altera_pvalue_gene(dfnCopWeightExampleCopy, dfEndeavourResults)\n",
        "            \n",
        "        #print_info(\"Verifica se tem nulos\", dfnCopWeightExampleNew.isnull().sum())\n",
        "\n",
        "        # Salva o novo arquivo de pesos gerado\n",
        "        dfnCopWeightExampleNewName = endeavourResultNameFile.replace('endeavour_result', 'weights')\n",
        "        dfnCopWeightExampleNewName = dfnCopWeightExampleNewName.replace('.csv', '.txt')\n",
        "        dfnCopWeightExampleNewName = path_nCopWeights+dfnCopWeightExampleNewName\n",
        "        dfnCopWeightExampleNew.to_csv(dfnCopWeightExampleNewName, sep=\"\\t\", header=None, index=False)\n",
        "        \n",
        "\n",
        "\n",
        "\n"
      ],
      "execution_count": null,
      "outputs": []
    },
    {
      "cell_type": "code",
      "metadata": {
        "colab": {
          "base_uri": "https://localhost:8080/"
        },
        "id": "sxASefNZspXg",
        "outputId": "3cfd686a-afcc-41cd-e10d-95681000c9ed"
      },
      "source": [
        "endeavourResults = file_list_in_dir(path_EndeavourResults)\n",
        "print(endeavourResults)\n",
        "enriquece_weights_ncop(path_nCopWeightExample, path_EndeavourResults, path_nCopWeights)\n",
        "\n"
      ],
      "execution_count": null,
      "outputs": [
        {
          "output_type": "stream",
          "text": [
            "['endeavour_result_multinet_gbm_reactome.csv', 'endeavour_result_multinet_brca_reactome.csv', 'endeavour_result_irefindex_gbm_reactome.csv', 'endeavour_result_irefindex_brca_reactome.csv', 'endeavour_result_hprd_gbm_reactome.csv', 'endeavour_result_hprd_brca_reactome.csv', 'endeavour_result_hint_gbm_reactome.csv', 'endeavour_result_hint_brca_reactome.csv']\n"
          ],
          "name": "stdout"
        }
      ]
    },
    {
      "cell_type": "code",
      "metadata": {
        "colab": {
          "base_uri": "https://localhost:8080/"
        },
        "id": "nsnUB7aiPibg",
        "outputId": "5fea74b4-21c7-493e-f975-4cb4b3749e45"
      },
      "source": [
        "# Frequence mutations: 3p\n",
        "endeavourResults3p = file_list_in_dir(path_EndeavourResults3p)\n",
        "print(endeavourResults3p)\n",
        "enriquece_weights_ncop(path_nCopWeightExample, path_EndeavourResults3p, path_nCopWeights3p)\n",
        "# Frequence mutations: 5p\n",
        "endeavourResults5p = file_list_in_dir(path_EndeavourResults5p)\n",
        "print(endeavourResults5p)\n",
        "enriquece_weights_ncop(path_nCopWeightExample, path_EndeavourResults5p, path_nCopWeights5p)\n",
        "# Frequence mutations: 10p\n",
        "endeavourResults10p = file_list_in_dir(path_EndeavourResults10p)\n",
        "print(endeavourResults10p)\n",
        "enriquece_weights_ncop(path_nCopWeightExample, path_EndeavourResults10p, path_nCopWeights10p)"
      ],
      "execution_count": null,
      "outputs": [
        {
          "output_type": "stream",
          "text": [
            "['endeavour_result_ACC.csv', 'endeavour_result_BLCA.csv', 'endeavour_result_BRCA.csv', 'endeavour_result_CESC.csv', 'endeavour_result_COAD.csv', 'endeavour_result_GBM.csv', 'endeavour_result_HNSC.csv', 'endeavour_result_KICH.csv', 'endeavour_result_KIRC.csv', 'endeavour_result_KIRP.csv', 'endeavour_result_LGG.csv', 'endeavour_result_LIHC.csv', 'endeavour_result_LUAD.csv', 'endeavour_result_LUSC.csv', 'endeavour_result_OV.csv', 'endeavour_result_PAAD.csv', 'endeavour_result_PCPG.csv', 'endeavour_result_PRAD.csv', 'endeavour_result_SKCM.csv', 'endeavour_result_STAD.csv', 'endeavour_result_THCA.csv', 'endeavour_result_UCEC.csv', 'endeavour_result_UCS.csv']\n",
            "['endeavour_result_ACC.csv', 'endeavour_result_BLCA.csv', 'endeavour_result_BRCA.csv', 'endeavour_result_CESC.csv', 'endeavour_result_COAD.csv', 'endeavour_result_GBM.csv', 'endeavour_result_HNSC.csv', 'endeavour_result_KICH.csv', 'endeavour_result_KIRC.csv', 'endeavour_result_KIRP.csv', 'endeavour_result_LGG.csv', 'endeavour_result_LIHC.csv', 'endeavour_result_LUAD.csv', 'endeavour_result_LUSC.csv', 'endeavour_result_OV.csv', 'endeavour_result_PAAD.csv', 'endeavour_result_PCPG.csv', 'endeavour_result_PRAD.csv', 'endeavour_result_SKCM.csv', 'endeavour_result_STAD.csv', 'endeavour_result_THCA.csv', 'endeavour_result_UCEC.csv', 'endeavour_result_UCS.csv']\n",
            "['endeavour_result_ACC.csv', 'endeavour_result_BLCA.csv', 'endeavour_result_BRCA.csv', 'endeavour_result_CESC.csv', 'endeavour_result_COAD.csv', 'endeavour_result_GBM.csv', 'endeavour_result_HNSC.csv', 'endeavour_result_KICH.csv', 'endeavour_result_KIRC.csv', 'endeavour_result_KIRP.csv', 'endeavour_result_LGG.csv', 'endeavour_result_LIHC.csv', 'endeavour_result_LUAD.csv', 'endeavour_result_LUSC.csv', 'endeavour_result_OV.csv', 'endeavour_result_PAAD.csv', 'endeavour_result_PRAD.csv', 'endeavour_result_SKCM.csv', 'endeavour_result_STAD.csv', 'endeavour_result_THCA.csv', 'endeavour_result_UCEC.csv', 'endeavour_result_UCS.csv']\n"
          ],
          "name": "stdout"
        }
      ]
    },
    {
      "cell_type": "code",
      "metadata": {
        "id": "bIXayJoa2ASg"
      },
      "source": [
        ""
      ],
      "execution_count": null,
      "outputs": []
    }
  ]
}