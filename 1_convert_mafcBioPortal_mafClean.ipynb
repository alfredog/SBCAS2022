{
  "nbformat": 4,
  "nbformat_minor": 0,
  "metadata": {
    "colab": {
      "name": "1 - convert_mafcBioPortal_mafClean.ipynb",
      "provenance": [],
      "collapsed_sections": [],
      "mount_file_id": "1Efz86AsXHxf74kWIg8GBpd4qWKZ_K6nU",
      "authorship_tag": "ABX9TyMkQ0JNinNJVG8XVXy58+/q"
    },
    "kernelspec": {
      "name": "python3",
      "display_name": "Python 3"
    },
    "language_info": {
      "name": "python"
    }
  },
  "cells": [
    {
      "cell_type": "code",
      "metadata": {
        "id": "63KOCeKUArU9"
      },
      "source": [
        "import pandas as pd\n",
        "import matplotlib.pyplot as plt\n",
        "import numpy as np\n",
        "import os"
      ],
      "execution_count": null,
      "outputs": []
    },
    {
      "cell_type": "code",
      "metadata": {
        "id": "9E3zbNdUB0wI"
      },
      "source": [
        "path_original = '/content/drive/MyDrive/Colab Notebooks/mafs_cBioPortal/Original/'\n",
        "path_clean = '/content/drive/MyDrive/Colab Notebooks/mafs_cBioPortal/Clean/'"
      ],
      "execution_count": null,
      "outputs": []
    },
    {
      "cell_type": "code",
      "metadata": {
        "id": "RR_AsyvxAx_Z"
      },
      "source": [
        "def read_maf(maf_file_name):\n",
        "    maf_fields = [\"Hugo_Symbol\", \"Chromosome\", \"Start_Position\", \"End_Position\", \"Reference_Allele\", \"Tumor_Seq_Allele2\", \"Variant_Classification\", \"Variant_Type\", \"Tumor_Sample_Barcode\"]\n",
        "    maf = pd.read_csv(maf_file_name, sep=\"\\t\", usecols=maf_fields,comment=\"#\")\n",
        "    return maf"
      ],
      "execution_count": null,
      "outputs": []
    },
    {
      "cell_type": "code",
      "metadata": {
        "id": "yf4boM3kA04k"
      },
      "source": [
        "def get_mutations_per_patient(maf):\n",
        "    mutations_per_patient = {}\n",
        "    patients = set(maf[\"Tumor_Sample_Barcode\"])\n",
        "    for patient in patients:\n",
        "        maf_one_gene = maf[maf.Tumor_Sample_Barcode.isin([patient])]\n",
        "        mutations_per_patient[patient] = len(maf_one_gene)\n",
        "    return mutations_per_patient"
      ],
      "execution_count": null,
      "outputs": []
    },
    {
      "cell_type": "code",
      "metadata": {
        "id": "IS9N1O0dBAQS"
      },
      "source": [
        "def remove_hipermutated_patients(maf, mutations_per_patient):\n",
        "    mutations_per_patient_count = list(mutations_per_patient.values())\n",
        "    q1 = np.quantile(mutations_per_patient_count, .25)\n",
        "    q2 = np.quantile(mutations_per_patient_count, .50)\n",
        "    q3 = np.quantile(mutations_per_patient_count, .75)\n",
        "    iqr = q3 - q1\n",
        "    threshold_hm = q3 + 4.5*iqr\n",
        "    mutations_per_patient_filtered = dict(filter(lambda elem: elem[1] <= threshold_hm, mutations_per_patient.items()))\n",
        "    maf = maf[maf.Tumor_Sample_Barcode.isin(list(mutations_per_patient_filtered))]\n",
        "    return maf"
      ],
      "execution_count": null,
      "outputs": []
    },
    {
      "cell_type": "code",
      "metadata": {
        "id": "5f8XEKvRBGrb"
      },
      "source": [
        "\"\"\"\n",
        "Gera uma lista com o nome de todos os mafs do diretório\n",
        "\"\"\"\n",
        "def mafs_list_in_dir(path):\n",
        "    l_mafs = []\n",
        "    for _, _, file in os.walk(path):\n",
        "        l_mafs = file\n",
        "    return l_mafs\n",
        "\n",
        "def convert_mafcBioPoral_mafClean(l_mafs_name):\n",
        "    for maf in l_mafs_name:\n",
        "        maf_df = read_maf(path_original + maf)\n",
        "        # Create a new file\n",
        "        new_maf_name = maf\n",
        "        new_maf_name = new_maf_name.replace('.txt', '.tsv')\n",
        "        # Remove hipermutated\n",
        "        mafClean = remove_hipermutated_patients(maf_df, get_mutations_per_patient(maf_df))\n",
        "        mafClean.to_csv(path_clean + new_maf_name,sep='\\t')\n"
      ],
      "execution_count": null,
      "outputs": []
    },
    {
      "cell_type": "code",
      "metadata": {
        "colab": {
          "base_uri": "https://localhost:8080/"
        },
        "id": "Ahlm532uCTsn",
        "outputId": "59316cd8-e090-4c6e-f23a-fc49aaedec51"
      },
      "source": [
        "l_mafs_name = mafs_list_in_dir(path_original)\n",
        "#print(l_mafs_name)\n",
        "convert_mafcBioPoral_mafClean(l_mafs_name)\n"
      ],
      "execution_count": null,
      "outputs": [
        {
          "output_type": "stream",
          "text": [
            "/usr/local/lib/python3.7/dist-packages/IPython/core/interactiveshell.py:2882: DtypeWarning: Columns (4) have mixed types.Specify dtype option on import or set low_memory=False.\n",
            "  exec(code_obj, self.user_global_ns, self.user_ns)\n"
          ],
          "name": "stderr"
        }
      ]
    },
    {
      "cell_type": "code",
      "metadata": {
        "id": "QC4PLrZtEhPa"
      },
      "source": [
        ""
      ],
      "execution_count": null,
      "outputs": []
    }
  ]
}