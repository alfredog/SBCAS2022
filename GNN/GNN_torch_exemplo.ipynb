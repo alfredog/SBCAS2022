{
 "cells": [
  {
   "cell_type": "code",
   "execution_count": 1,
   "id": "f8c5c7da-f7de-4313-97df-16d49d93e992",
   "metadata": {},
   "outputs": [],
   "source": [
    "import warnings\n",
    "warnings.filterwarnings('ignore')"
   ]
  },
  {
   "cell_type": "code",
   "execution_count": 2,
   "id": "7914576b-22e6-4a02-aed6-c0b2a66122c5",
   "metadata": {},
   "outputs": [],
   "source": [
    "import pandas as pd\n",
    "import sknetwork as skn\n",
    "import networkx as nx\n",
    "import numpy as np\n",
    "from sklearn.ensemble import RandomForestClassifier\n",
    "from sklearn.model_selection import train_test_split\n",
    "from sklearn.metrics import classification_report, confusion_matrix\n",
    "from pathlib import Path\n",
    "\n",
    "import torch\n",
    "import torch.nn as nn\n",
    "import torch.nn.functional as F\n",
    "from torch_geometric.data import Data\n",
    "from torch_geometric.nn import GCNConv"
   ]
  },
  {
   "cell_type": "code",
   "execution_count": 3,
   "id": "d378e6aa-d8b4-4ef9-8d26-5acecc9d7dcb",
   "metadata": {},
   "outputs": [],
   "source": [
    "import seaborn as sns\n",
    "import matplotlib.pyplot as plt\n",
    "sns.set(style=\"darkgrid\")"
   ]
  },
  {
   "cell_type": "markdown",
   "id": "96b91999-6eb5-464f-b0a8-7fdd41ff0d6f",
   "metadata": {},
   "source": [
    "# Globais"
   ]
  },
  {
   "cell_type": "code",
   "execution_count": 4,
   "id": "4c3b2f67-f53a-4df9-8b3d-6f66f48e78bf",
   "metadata": {},
   "outputs": [],
   "source": [
    "NETWORK_HRPD_BASE_PATH = Path(\"/Users/alfredoguilhermedasilvasouza/IdeaProjects/acdbio-mlnet-driver-discovery/acdbio_mlnet_driver_discovery/data/networks/silver\")\n",
    "MAF_BASE_PATH = Path(\"/Users/alfredoguilhermedasilvasouza/IdeaProjects/acdbio-mlnet-driver-discovery/acdbio_mlnet_driver_discovery/data/mafs/gold\")\n",
    "INTOGEN_BASE_PATH = Path(\"/Users/alfredoguilhermedasilvasouza/IdeaProjects/acdbio-mlnet-driver-discovery/acdbio_mlnet_driver_discovery/data/benchmarks/intogen\")\n",
    "NETWORK_HRPD_FEATURES_BASE_PATH = Path(\"/Users/alfredoguilhermedasilvasouza/IdeaProjects/acdbio-mlnet-driver-discovery/acdbio_mlnet_driver_discovery/data/network_features\")\n",
    "CGC_BASE_PATH = Path(\"/Users/alfredoguilhermedasilvasouza/IdeaProjects/acdbio-mlnet-driver-discovery/acdbio_mlnet_driver_discovery/data/benchmarks/CGC\")\n",
    "FALSE_POSITIVE_BASE_PATH = Path(\"/Users/alfredoguilhermedasilvasouza/IdeaProjects/acdbio-mlnet-driver-discovery/acdbio_mlnet_driver_discovery/data/benchmarks/false_positives\")"
   ]
  },
  {
   "cell_type": "code",
   "execution_count": 5,
   "id": "aac3230a-53cd-4cfd-8e1b-9373f3a02011",
   "metadata": {},
   "outputs": [],
   "source": [
    "NETWORK_HPRD_PATH = NETWORK_HRPD_BASE_PATH.joinpath(\"HPRD.txt\")\n",
    "MAF_BRCA_PATH = MAF_BASE_PATH.joinpath(\"brca_data_mutations_extended.parquet\")\n",
    "INTOGEN_BRCA_PATH = INTOGEN_BASE_PATH.joinpath(\"IntOGen-DriverGenes_BRCA_TCGA.tsv\")\n",
    "NETWORK_FEATURES_HPRD_PATH = NETWORK_HRPD_FEATURES_BASE_PATH.joinpath(\"HPRD_features.parquet\")\n",
    "CGC_PATH = CGC_BASE_PATH.joinpath(\"CGC_COSMIC_Census_allTue Jul 27 01_37_31 2021.tsv\")\n",
    "FALSE_POSITIVE_PATH = FALSE_POSITIVE_BASE_PATH.joinpath(\"false_positives_NCG6.txt\")"
   ]
  },
  {
   "cell_type": "markdown",
   "id": "aeeef638-5418-4922-bd5b-107775467362",
   "metadata": {},
   "source": [
    "### Lista de arestas"
   ]
  },
  {
   "cell_type": "code",
   "execution_count": 6,
   "id": "08f81694-210b-459b-8e83-718af73981fb",
   "metadata": {},
   "outputs": [],
   "source": [
    "edges = pd.read_csv(NETWORK_HPRD_PATH, sep=' ', header=None, names=['Gene1', 'Gene2'])"
   ]
  },
  {
   "cell_type": "code",
   "execution_count": 7,
   "id": "b9d0a4b5-d96c-47a4-ac07-02c4e6f55a3e",
   "metadata": {},
   "outputs": [
    {
     "data": {
      "text/html": [
       "<div>\n",
       "<style scoped>\n",
       "    .dataframe tbody tr th:only-of-type {\n",
       "        vertical-align: middle;\n",
       "    }\n",
       "\n",
       "    .dataframe tbody tr th {\n",
       "        vertical-align: top;\n",
       "    }\n",
       "\n",
       "    .dataframe thead th {\n",
       "        text-align: right;\n",
       "    }\n",
       "</style>\n",
       "<table border=\"1\" class=\"dataframe\">\n",
       "  <thead>\n",
       "    <tr style=\"text-align: right;\">\n",
       "      <th></th>\n",
       "      <th>Gene1</th>\n",
       "      <th>Gene2</th>\n",
       "    </tr>\n",
       "  </thead>\n",
       "  <tbody>\n",
       "    <tr>\n",
       "      <th>0</th>\n",
       "      <td>CHRNA1</td>\n",
       "      <td>CHRNE</td>\n",
       "    </tr>\n",
       "    <tr>\n",
       "      <th>1</th>\n",
       "      <td>CHRNA1</td>\n",
       "      <td>CHRNG</td>\n",
       "    </tr>\n",
       "    <tr>\n",
       "      <th>2</th>\n",
       "      <td>CHRNA1</td>\n",
       "      <td>CHRND</td>\n",
       "    </tr>\n",
       "    <tr>\n",
       "      <th>3</th>\n",
       "      <td>FHL2</td>\n",
       "      <td>AR</td>\n",
       "    </tr>\n",
       "    <tr>\n",
       "      <th>4</th>\n",
       "      <td>FHL2</td>\n",
       "      <td>HAND1</td>\n",
       "    </tr>\n",
       "    <tr>\n",
       "      <th>...</th>\n",
       "      <td>...</td>\n",
       "      <td>...</td>\n",
       "    </tr>\n",
       "    <tr>\n",
       "      <th>24345</th>\n",
       "      <td>RRAGC</td>\n",
       "      <td>RRAGA</td>\n",
       "    </tr>\n",
       "    <tr>\n",
       "      <th>24346</th>\n",
       "      <td>TSPO</td>\n",
       "      <td>DBI</td>\n",
       "    </tr>\n",
       "    <tr>\n",
       "      <th>24347</th>\n",
       "      <td>TSPO</td>\n",
       "      <td>BZRAP1</td>\n",
       "    </tr>\n",
       "    <tr>\n",
       "      <th>24348</th>\n",
       "      <td>ERVW-1</td>\n",
       "      <td>SLC1A4</td>\n",
       "    </tr>\n",
       "    <tr>\n",
       "      <th>24349</th>\n",
       "      <td>PISD</td>\n",
       "      <td>DAGLB</td>\n",
       "    </tr>\n",
       "  </tbody>\n",
       "</table>\n",
       "<p>24350 rows × 2 columns</p>\n",
       "</div>"
      ],
      "text/plain": [
       "        Gene1   Gene2\n",
       "0      CHRNA1   CHRNE\n",
       "1      CHRNA1   CHRNG\n",
       "2      CHRNA1   CHRND\n",
       "3        FHL2      AR\n",
       "4        FHL2   HAND1\n",
       "...       ...     ...\n",
       "24345   RRAGC   RRAGA\n",
       "24346    TSPO     DBI\n",
       "24347    TSPO  BZRAP1\n",
       "24348  ERVW-1  SLC1A4\n",
       "24349    PISD   DAGLB\n",
       "\n",
       "[24350 rows x 2 columns]"
      ]
     },
     "execution_count": 7,
     "metadata": {},
     "output_type": "execute_result"
    }
   ],
   "source": [
    "edges"
   ]
  },
  {
   "cell_type": "markdown",
   "id": "e7fe8f0f-d312-4a50-82ca-5a6e3e31da1e",
   "metadata": {},
   "source": [
    "### 1. Lista de Genes e Mapeamento Gene-Índice\n",
    "Definir a lista de genes:"
   ]
  },
  {
   "cell_type": "code",
   "execution_count": 8,
   "id": "e8a92fb9-3e5b-4fad-9388-92f2054643ad",
   "metadata": {},
   "outputs": [],
   "source": [
    "# Lista de genes\n",
    "genes = ['BRCA1', 'TP53', 'EGFR', 'MYC', 'PTEN']"
   ]
  },
  {
   "cell_type": "code",
   "execution_count": 9,
   "id": "98994b65-9e2e-40cb-be40-9dab91679207",
   "metadata": {},
   "outputs": [],
   "source": [
    "# Mapeamento do nome do gene para o índice do nó\n",
    "gene_to_index = {gene: idx for idx, gene in enumerate(genes)}"
   ]
  },
  {
   "cell_type": "markdown",
   "id": "e140d10d-92e8-4c58-9474-28ff4d682af1",
   "metadata": {},
   "source": [
    "### 2. Definir as Arestas com Base nos Genes\n",
    "Exemplo de arestas entre genes:\n",
    "\n",
    "Suponha que temos as seguintes interações entre genes:\n",
    "\n",
    "BRCA1 interage com TP53\n",
    "TP53 interage com EGFR\n",
    "EGFR interage com MYC\n",
    "MYC interage com PTEN\n",
    "Definir as arestas usando os índices correspondentes:\n"
   ]
  },
  {
   "cell_type": "code",
   "execution_count": 10,
   "id": "8d2c60c1-3981-4509-a0a6-b025597b7fe4",
   "metadata": {},
   "outputs": [],
   "source": [
    "# Lista de arestas entre genes (pares de genes)\n",
    "edges = [\n",
    "    ('BRCA1', 'TP53'),\n",
    "    ('TP53', 'EGFR'),\n",
    "    ('EGFR', 'MYC'),\n",
    "    ('MYC', 'PTEN')\n",
    "]\n",
    "\n",
    "# Converter as arestas para índices\n",
    "edge_index = torch.tensor([\n",
    "    [gene_to_index[edge[0]] for edge in edges],  # de\n",
    "    [gene_to_index[edge[1]] for edge in edges]   # para\n",
    "], dtype=torch.long)\n"
   ]
  },
  {
   "cell_type": "code",
   "execution_count": 11,
   "id": "2834066c-b044-4369-92d7-d8b7d2ba6817",
   "metadata": {},
   "outputs": [
    {
     "data": {
      "text/plain": [
       "[('BRCA1', 'TP53'), ('TP53', 'EGFR'), ('EGFR', 'MYC'), ('MYC', 'PTEN')]"
      ]
     },
     "execution_count": 11,
     "metadata": {},
     "output_type": "execute_result"
    }
   ],
   "source": [
    "edges"
   ]
  },
  {
   "cell_type": "code",
   "execution_count": 12,
   "id": "a720aa9e-28fe-40dc-9820-daba0ab966cf",
   "metadata": {},
   "outputs": [
    {
     "data": {
      "text/plain": [
       "tensor([[0, 1, 2, 3],\n",
       "        [1, 2, 3, 4]])"
      ]
     },
     "execution_count": 12,
     "metadata": {},
     "output_type": "execute_result"
    }
   ],
   "source": [
    "edge_index"
   ]
  },
  {
   "cell_type": "markdown",
   "id": "5138f3d0-f31a-48a5-a0ad-33ee537f4607",
   "metadata": {},
   "source": [
    "### 3. Associar Atributos aos Genes\n",
    "Definir os atributos para cada gene:\n",
    "\n",
    "Vamos criar dicionários que mapeiam cada gene ao seu atributo correspondente."
   ]
  },
  {
   "cell_type": "code",
   "execution_count": 13,
   "id": "75cf8a73-4710-4eb9-99af-d6d6aaa14344",
   "metadata": {},
   "outputs": [],
   "source": [
    "# Atributos dos genes\n",
    "is_driver_dict = {\n",
    "    'BRCA1': 1,\n",
    "    'TP53': 1,\n",
    "    'EGFR': 0,\n",
    "    'MYC': 0,\n",
    "    'PTEN': 1\n",
    "}\n",
    "\n",
    "is_false_positive_dict = {\n",
    "    'BRCA1': 0,\n",
    "    'TP53': 0,\n",
    "    'EGFR': 1,\n",
    "    'MYC': 0,\n",
    "    'PTEN': 0\n",
    "}\n",
    "\n",
    "found_in_intogen_dict = {\n",
    "    'BRCA1': 1,\n",
    "    'TP53': 1,\n",
    "    'EGFR': 0,\n",
    "    'MYC': 1,\n",
    "    'PTEN': 1\n",
    "}"
   ]
  },
  {
   "cell_type": "markdown",
   "id": "f965ea49-5d98-409c-b305-4195520399cf",
   "metadata": {},
   "source": [
    "### Converter os atributos em tensores alinhados aos índices dos genes:"
   ]
  },
  {
   "cell_type": "code",
   "execution_count": 15,
   "id": "0f1beb07-0654-481c-b2ee-c0ca160a3b79",
   "metadata": {},
   "outputs": [],
   "source": [
    "# Número de genes\n",
    "num_genes = len(genes)\n",
    "\n",
    "# Inicializar tensores vazios para os atributos\n",
    "is_driver = torch.zeros((num_genes, 1), dtype=torch.float)\n",
    "is_false_positive = torch.zeros((num_genes, 1), dtype=torch.float)\n",
    "found_in_intogen = torch.zeros((num_genes, 1), dtype=torch.float)\n",
    "\n",
    "# Preencher os tensores com os valores correspondentes\n",
    "for gene, idx in gene_to_index.items():\n",
    "    is_driver[idx] = is_driver_dict[gene]\n",
    "    is_false_positive[idx] = is_false_positive_dict[gene]\n",
    "    found_in_intogen[idx] = found_in_intogen_dict[gene]\n",
    "\n",
    "# Concatenar os atributos para formar a matriz de features dos nós\n",
    "x = torch.cat([is_driver, is_false_positive, found_in_intogen], dim=1)\n"
   ]
  },
  {
   "cell_type": "markdown",
   "id": "e4fae6e2-9ca6-4661-be99-c12c446f68f0",
   "metadata": {},
   "source": [
    "### 4. Criar o Objeto de Dados do Grafo\n",
    "Definir os rótulos (y):\n",
    "\n",
    "Vamos supor que queremos prever se um gene é um driver (`is_driver`)."
   ]
  },
  {
   "cell_type": "code",
   "execution_count": 16,
   "id": "fb10d54c-4102-475b-af1b-4e5e9f15d668",
   "metadata": {},
   "outputs": [],
   "source": [
    "# Labels para treinamento (se é driver)\n",
    "y = is_driver.squeeze().long()  # Converter para inteiro longo\n"
   ]
  },
  {
   "cell_type": "markdown",
   "id": "a7faecbe-7c34-4059-a881-7ef30edf032d",
   "metadata": {},
   "source": [
    "Criar o objeto `Data`:"
   ]
  },
  {
   "cell_type": "code",
   "execution_count": 18,
   "id": "a1ae285d-569d-46df-b7e0-50fba9c02927",
   "metadata": {},
   "outputs": [],
   "source": [
    "from torch_geometric.data import Data\n",
    "\n",
    "data = Data(x=x, edge_index=edge_index, y=y)\n"
   ]
  },
  {
   "cell_type": "markdown",
   "id": "ec82d91e-0ad2-42c5-954b-85fdec59caaf",
   "metadata": {},
   "source": [
    "#### Adicionar o mapeamento de índices para genes (opcional para referência):\n",
    "\n",
    "Embora o PyTorch Geometric não use diretamente os nomes dos genes, podemos manter o mapeamento para referência futura."
   ]
  },
  {
   "cell_type": "code",
   "execution_count": 19,
   "id": "dd19d3fa-c13f-4cd9-9ec9-6fff17e451db",
   "metadata": {},
   "outputs": [],
   "source": [
    "# Inverter o mapeamento para obter index_to_gene\n",
    "index_to_gene = {idx: gene for gene, idx in gene_to_index.items()}\n"
   ]
  },
  {
   "cell_type": "markdown",
   "id": "b13e519a-c299-4c0a-849f-c4f02d23f81e",
   "metadata": {},
   "source": [
    "### 5. Definir o Modelo GNN\n",
    "O modelo permanece semelhante ao anterior."
   ]
  },
  {
   "cell_type": "code",
   "execution_count": 22,
   "id": "41399f85-5f81-4dcf-8847-8d85698f2103",
   "metadata": {},
   "outputs": [],
   "source": [
    "import torch.nn as nn\n",
    "import torch.nn.functional as F\n",
    "from torch_geometric.nn import GCNConv\n",
    "\n",
    "class GCNClassifier(nn.Module):\n",
    "    def __init__(self, input_dim, hidden_dim, output_dim):\n",
    "        super(GCNClassifier, self).__init__()\n",
    "        self.conv1 = GCNConv(input_dim, hidden_dim)\n",
    "        self.conv2 = GCNConv(hidden_dim, output_dim)\n",
    "        \n",
    "    def forward(self, data):\n",
    "        x, edge_index = data.x, data.edge_index\n",
    "        \n",
    "        x = self.conv1(x, edge_index)\n",
    "        x = F.relu(x)\n",
    "        x = self.conv2(x, edge_index)\n",
    "        \n",
    "        return F.log_softmax(x, dim=1)\n"
   ]
  },
  {
   "cell_type": "markdown",
   "id": "5740e46c-5dd2-4314-b52f-361290bcbdce",
   "metadata": {},
   "source": [
    "Instanciar o modelo"
   ]
  },
  {
   "cell_type": "code",
   "execution_count": 23,
   "id": "344bb36f-ea18-46cf-b647-2fc7d710243f",
   "metadata": {},
   "outputs": [],
   "source": [
    "input_dim = x.shape[1]    # Número de atributos de entrada (3 neste caso)\n",
    "hidden_dim = 16           # Tamanho da camada oculta\n",
    "output_dim = 2            # Número de classes (driver ou não driver)\n",
    "\n",
    "model = GCNClassifier(input_dim, hidden_dim, output_dim)\n"
   ]
  },
  {
   "cell_type": "markdown",
   "id": "56592c6c-e947-434a-bc5c-cb13f4ed54b1",
   "metadata": {},
   "source": [
    "### 6. Treinar e Avaliar o Modelo\n",
    "Definir o otimizador e a função de perda:"
   ]
  },
  {
   "cell_type": "code",
   "execution_count": 26,
   "id": "c2e23955-c61e-4741-b498-d4de413fc78f",
   "metadata": {},
   "outputs": [],
   "source": [
    "optimizer = torch.optim.Adam(model.parameters(), lr=0.01)\n",
    "criterion = nn.NLLLoss()\n"
   ]
  },
  {
   "cell_type": "markdown",
   "id": "d9d2e46a-f724-44dd-996b-f3615f9be59b",
   "metadata": {},
   "source": [
    "#### Treinar o modelo:"
   ]
  },
  {
   "cell_type": "code",
   "execution_count": 27,
   "id": "1c8cc2d8-0c21-4376-8ab0-26dc4022c06b",
   "metadata": {},
   "outputs": [
    {
     "name": "stdout",
     "output_type": "stream",
     "text": [
      "Época 0, Loss: 0.6676\n",
      "Época 10, Loss: 0.5837\n",
      "Época 20, Loss: 0.5377\n",
      "Época 30, Loss: 0.4825\n",
      "Época 40, Loss: 0.4276\n",
      "Época 50, Loss: 0.3697\n",
      "Época 60, Loss: 0.3151\n",
      "Época 70, Loss: 0.2629\n",
      "Época 80, Loss: 0.2159\n",
      "Época 90, Loss: 0.1745\n"
     ]
    }
   ],
   "source": [
    "model.train()\n",
    "for epoch in range(100):  # Número de épocas de treinamento\n",
    "    optimizer.zero_grad()\n",
    "    out = model(data)\n",
    "    loss = criterion(out, data.y)\n",
    "    loss.backward()\n",
    "    optimizer.step()\n",
    "    \n",
    "    if epoch % 10 == 0:\n",
    "        print(f'Época {epoch}, Loss: {loss.item():.4f}')\n"
   ]
  },
  {
   "cell_type": "markdown",
   "id": "ec2aa82b-95c4-464d-925e-a82d23962bc6",
   "metadata": {},
   "source": [
    "#### Avaliar o modelo:"
   ]
  },
  {
   "cell_type": "code",
   "execution_count": 28,
   "id": "84f6d73b-9af1-4b29-b5f6-ba1c00f1cd2c",
   "metadata": {},
   "outputs": [
    {
     "name": "stdout",
     "output_type": "stream",
     "text": [
      "Acurácia: 100.00%\n"
     ]
    }
   ],
   "source": [
    "model.eval()\n",
    "_, pred = model(data).max(dim=1)\n",
    "correct = int((pred == data.y).sum())\n",
    "accuracy = correct / num_genes\n",
    "\n",
    "print(f'Acurácia: {accuracy * 100:.2f}%')\n"
   ]
  },
  {
   "cell_type": "markdown",
   "id": "81738eef-8733-4ed5-abe3-f549a8e00356",
   "metadata": {},
   "source": [
    "#### Exibir as predições com os nomes dos genes:"
   ]
  },
  {
   "cell_type": "code",
   "execution_count": 30,
   "id": "42bebf48-624c-4bc9-96b3-4097402f8fe2",
   "metadata": {},
   "outputs": [
    {
     "name": "stdout",
     "output_type": "stream",
     "text": [
      "Gene: BRCA1, Verdadeiro: 1, Predito: 1\n",
      "Gene: TP53, Verdadeiro: 1, Predito: 1\n",
      "Gene: EGFR, Verdadeiro: 0, Predito: 0\n",
      "Gene: MYC, Verdadeiro: 0, Predito: 0\n",
      "Gene: PTEN, Verdadeiro: 1, Predito: 1\n"
     ]
    }
   ],
   "source": [
    "for idx, gene in index_to_gene.items():\n",
    "    print(f'Gene: {gene}, Verdadeiro: {data.y[idx].item()}, Predito: {pred[idx].item()}')"
   ]
  },
  {
   "cell_type": "code",
   "execution_count": null,
   "id": "c8cc7876-63cd-41f4-930c-b8662a89ce1d",
   "metadata": {},
   "outputs": [],
   "source": []
  }
 ],
 "metadata": {
  "kernelspec": {
   "display_name": "Python 3 (ipykernel)",
   "language": "python",
   "name": "python3"
  },
  "language_info": {
   "codemirror_mode": {
    "name": "ipython",
    "version": 3
   },
   "file_extension": ".py",
   "mimetype": "text/x-python",
   "name": "python",
   "nbconvert_exporter": "python",
   "pygments_lexer": "ipython3",
   "version": "3.12.5"
  }
 },
 "nbformat": 4,
 "nbformat_minor": 5
}
