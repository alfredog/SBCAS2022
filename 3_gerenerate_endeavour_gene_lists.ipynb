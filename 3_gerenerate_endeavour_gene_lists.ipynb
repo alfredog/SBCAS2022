{
  "nbformat": 4,
  "nbformat_minor": 0,
  "metadata": {
    "colab": {
      "name": "3 - gerenerate_endeavour_gene_lists.ipynb",
      "provenance": [],
      "collapsed_sections": [],
      "mount_file_id": "1QWFRoOGQlYM-hcf_SU9A7Dv0i_w9P9kP",
      "authorship_tag": "ABX9TyMnUi95DQbkeCWBGzlrH8WE"
    },
    "kernelspec": {
      "name": "python3",
      "display_name": "Python 3"
    },
    "language_info": {
      "name": "python"
    }
  },
  "cells": [
    {
      "cell_type": "markdown",
      "metadata": {
        "id": "ZtdXr8v8OZZC"
      },
      "source": [
        "# Generate Endeavour gene lists (training and candidate)\n"
      ]
    },
    {
      "cell_type": "markdown",
      "metadata": {
        "id": "P6xrvBx2QfbQ"
      },
      "source": [
        "Gerar antes o conversor Maf clean para já usar o MAF filtrado e limpo\n"
      ]
    },
    {
      "cell_type": "code",
      "metadata": {
        "id": "wbBtUhrTO0iW"
      },
      "source": [
        "import pandas as pd\n",
        "import os\n"
      ],
      "execution_count": null,
      "outputs": []
    },
    {
      "cell_type": "code",
      "metadata": {
        "id": "i7G88NHI6UKX"
      },
      "source": [
        "path_mafs_nCop = '/content/drive/MyDrive/Colab Notebooks/mafs_nCop/'\n",
        "path_nets = '/content/drive/MyDrive/Colab Notebooks/redes/'\n",
        "path_frequence = '/content/drive/MyDrive/Colab Notebooks/mafs_cBioPortal/MutationFrequence/'\n",
        "\n",
        "path_mafs_list = '/content/drive/MyDrive/Colab Notebooks/enriquecimento/Endeavour/MAF_lists/'\n",
        "path_nets_list = '/content/drive/MyDrive/Colab Notebooks/enriquecimento/Endeavour/NET_lists/'\n",
        "\n",
        "path_mafs_freq_10p = '/content/drive/MyDrive/Colab Notebooks/enriquecimento/Endeavour/MAF_lists_freq_10p/'\n",
        "path_mafs_freq_5p = '/content/drive/MyDrive/Colab Notebooks/enriquecimento/Endeavour/MAF_lists_freq_5p/'\n",
        "path_mafs_freq_3p = '/content/drive/MyDrive/Colab Notebooks/enriquecimento/Endeavour/MAF_lists_freq_3p/'\n"
      ],
      "execution_count": null,
      "outputs": []
    },
    {
      "cell_type": "code",
      "metadata": {
        "colab": {
          "base_uri": "https://localhost:8080/"
        },
        "id": "RFfotIoZvGmp",
        "outputId": "1403b306-5e2c-40ec-fb5c-524dfea872f6"
      },
      "source": [
        "from google.colab import drive\n",
        "drive.mount('/content/drive')"
      ],
      "execution_count": null,
      "outputs": [
        {
          "output_type": "stream",
          "text": [
            "Drive already mounted at /content/drive; to attempt to forcibly remount, call drive.mount(\"/content/drive\", force_remount=True).\n"
          ],
          "name": "stdout"
        }
      ]
    },
    {
      "cell_type": "code",
      "metadata": {
        "id": "pTuiI_6g6WBm"
      },
      "source": [
        "\"\"\"\n",
        "Gera uma lista com o nome de todos os arquivos do diretório (mafs ou redes)\n",
        "\"\"\"\n",
        "def file_list_in_dir(path):\n",
        "    l_files = []\n",
        "    for _, _, file in os.walk(path):\n",
        "        l_files = file\n",
        "    return l_files\n",
        "\n",
        "\"\"\"\n",
        "Abre todos os mafs do diretório\n",
        "\"\"\"    \n",
        "def open_mafs(l_mafs_name):\n",
        "    l_mafs_csv = []\n",
        "    for maf in l_mafs_name:\n",
        "        df = pd.read_csv(path+maf, sep='\\t', usecols=[\"Hugo_Symbol\", \"Tumor_Sample_Barcode\"])\n",
        "        l_mafs_csv.append(df)\n",
        "    return l_mafs_csv"
      ],
      "execution_count": null,
      "outputs": []
    },
    {
      "cell_type": "code",
      "metadata": {
        "id": "99k39eJnIkJt"
      },
      "source": [
        "# Retorna uma lista de genes do MAF em que aparece mutado mais de uma vez em um mesmo paciente\n",
        "def listaGenesPacientes(maf):\n",
        "    ListGenes = []\n",
        "    for i in open(maf):\n",
        "        ListPontGene = []\n",
        "        lista = str(i).split(' ')\n",
        "        ListPontGene.append(lista[0])\n",
        "        tamanhoSemRepetidos = len(list(set(lista)))-1\n",
        "        tamanhoComRepetidos = len(lista)-1\n",
        "        ListPontGene.append(tamanhoSemRepetidos)\n",
        "        ListPontGene.append(tamanhoComRepetidos)\n",
        "        \n",
        "        if tamanhoSemRepetidos != tamanhoComRepetidos:\n",
        "            ListGenes.append(ListPontGene[0])\n",
        "\n",
        "    return ListGenes\n",
        "\n",
        "def listaGenesPacientesCorreto(maf):\n",
        "    ListGenes = []\n",
        "    for i in open(maf):\n",
        "        ListPontGene = []\n",
        "        lista = str(i).split(' ')\n",
        "        ListGenes.append(lista[0])\n",
        "\n",
        "    return set(ListGenes)\n",
        "\n",
        "def listaGenesPacientesFreq(l_mafs_frequence, percent, path_mafs_freq):\n",
        "\n",
        "    for freq in l_mafs_frequence:\n",
        "        listGenes = []\n",
        "        dfFrequence = pd.read_csv(path_frequence+freq, sep='\\t', usecols=['Gene', 'Freq'])\n",
        "        dfFrequence['Freq'] = dfFrequence['Freq'].str.rstrip('%')\n",
        "        dfFrequence['Freq'] = dfFrequence['Freq'].astype('float')\n",
        "        dfFrequence = dfFrequence[(dfFrequence['Freq']>=percent)]\n",
        "        listGenes = list(dfFrequence['Gene'])\n",
        "        escreveListaEmArquivo(listGenes, path_mafs_freq, freq)\n",
        "\n",
        "\n",
        "# Retorna um dicionario de genes do MAF pontuados e uma lista de todos os genes\n",
        "def calculaPontGenes(maf):\n",
        "    DictPontGenes = {}\n",
        "    ListGenes = []\n",
        "    for i in open(maf):\n",
        "        ListPontGene = []\n",
        "        lista = str(i).split(' ')\n",
        "        ListPontGene.append(lista[0])\n",
        "        ListPontGene.append(str(len(lista)-1))\n",
        "        ListGenes.append(ListPontGene[0])\n",
        "        DictPontGenes[ListPontGene[0]] = ListPontGene[1]\n",
        "    \n",
        "    return set(ListGenes), DictPontGenes\n",
        "\n",
        "def escreveListaEmArquivo(lista, path, nome):\n",
        "    nome_arquivo = path + nome\n",
        "    print(nome_arquivo)\n",
        "    arquivo = open(nome_arquivo, \"a\")\n",
        "    for i in lista:\n",
        "        arquivo.write(str(i)+'\\n')\n",
        "    arquivo.close()"
      ],
      "execution_count": null,
      "outputs": []
    },
    {
      "cell_type": "code",
      "metadata": {
        "id": "Pgz_0JWa7Uhk"
      },
      "source": [
        "\n",
        "\"\"\"\n",
        "Recebe uma lista de de todas os MAFs do diretório e converte todos em uma lista de genes\n",
        "Saída: um arquivo para cada MAF, com a lista de genes do MAF\n",
        "\"\"\"\n",
        "def convert_mafnCop_mafGenesList(l_mafs_name):\n",
        "    l_mafs_csv = []\n",
        "    for maf in l_mafs_name:\n",
        "        #ListGenes, DictPontGenes = calculaPontGenes(path_mafs_nCop+maf)\n",
        "        ListGenes = listaGenesPacientesCorreto(path_mafs_nCop+maf)\n",
        "        print('\\n'+maf)\n",
        "        print(ListGenes)\n",
        "        print('tamanho: ' + str(len(ListGenes)))\n",
        "        escreveListaEmArquivo(ListGenes, path_mafs_list, maf)\n",
        "\n",
        "\"\"\"\n",
        "Recebe uma lista de de todas as redes do diretório e converte todos em uma lista de genes\n",
        "Saída: um arquivo para cada rede, com a lista de genes da rede\n",
        "\"\"\"\n",
        "def converte_net_netGenesList(l_nets_name):\n",
        "    l_nets_csv = []\n",
        "    for net in l_nets_name:\n",
        "        df = pd.read_csv(path_nets+net, sep=\"\\s+\", header=None, names=[\"geneA\", \"geneB\"])\n",
        "        # Captura todos os genes sem os repetidos de cada coluna\n",
        "        colunaA = df[\"geneA\"].unique().tolist()\n",
        "        colunaB = df[\"geneB\"].unique().tolist()\n",
        "        listaGenes = colunaA + colunaB\n",
        "        listaGenes = list(set(listaGenes))\n",
        "        print('\\n'+net)\n",
        "        print(listaGenes)\n",
        "        print('tamanho: ' + str(len(listaGenes)))\n",
        "        escreveListaEmArquivo(listaGenes, path_nets_list, net)\n"
      ],
      "execution_count": null,
      "outputs": []
    },
    {
      "cell_type": "code",
      "metadata": {
        "id": "v3QZu_H37ph-"
      },
      "source": [
        "l_mafs_name = file_list_in_dir(path_mafs_nCop)\n",
        "convert_mafnCop_mafGenesList(l_mafs_name)\n"
      ],
      "execution_count": null,
      "outputs": []
    },
    {
      "cell_type": "code",
      "metadata": {
        "id": "KEDJEcQmIIxZ"
      },
      "source": [
        "l_nets_name = file_list_in_dir(path_nets)\n",
        "converte_net_netGenesList(l_nets_name)\n"
      ],
      "execution_count": null,
      "outputs": []
    },
    {
      "cell_type": "code",
      "metadata": {
        "id": "3u4_eVkWQ4nz",
        "colab": {
          "base_uri": "https://localhost:8080/"
        },
        "outputId": "e71cd9bb-a6aa-42bc-b6a2-688dfb43613c"
      },
      "source": [
        "l_mafs_frequence = file_list_in_dir(path_frequence)\n",
        "listaGenesPacientesFreq(l_mafs_frequence, 3, path_mafs_freq_3p)\n",
        "listaGenesPacientesFreq(l_mafs_frequence, 5, path_mafs_freq_5p)\n",
        "listaGenesPacientesFreq(l_mafs_frequence, 10, path_mafs_freq_10p)\n"
      ],
      "execution_count": null,
      "outputs": [
        {
          "output_type": "stream",
          "text": [
            "/content/drive/MyDrive/Colab Notebooks/enriquecimento/Endeavour/MAF_lists_freq_3p/ACC_frequence.txt\n",
            "/content/drive/MyDrive/Colab Notebooks/enriquecimento/Endeavour/MAF_lists_freq_3p/BLCA_frequence.txt\n",
            "/content/drive/MyDrive/Colab Notebooks/enriquecimento/Endeavour/MAF_lists_freq_3p/BRCA_frequence.txt\n",
            "/content/drive/MyDrive/Colab Notebooks/enriquecimento/Endeavour/MAF_lists_freq_3p/CESC_frequence.txt\n",
            "/content/drive/MyDrive/Colab Notebooks/enriquecimento/Endeavour/MAF_lists_freq_3p/COAD_frequence.txt\n",
            "/content/drive/MyDrive/Colab Notebooks/enriquecimento/Endeavour/MAF_lists_freq_3p/GBM_frequence.txt\n",
            "/content/drive/MyDrive/Colab Notebooks/enriquecimento/Endeavour/MAF_lists_freq_3p/HNSC_frequence.txt\n",
            "/content/drive/MyDrive/Colab Notebooks/enriquecimento/Endeavour/MAF_lists_freq_3p/KICH_frequence.txt\n",
            "/content/drive/MyDrive/Colab Notebooks/enriquecimento/Endeavour/MAF_lists_freq_3p/KIRC_frequence.txt\n",
            "/content/drive/MyDrive/Colab Notebooks/enriquecimento/Endeavour/MAF_lists_freq_3p/KIRP_frequence.txt\n",
            "/content/drive/MyDrive/Colab Notebooks/enriquecimento/Endeavour/MAF_lists_freq_3p/LGG_frequence.txt\n",
            "/content/drive/MyDrive/Colab Notebooks/enriquecimento/Endeavour/MAF_lists_freq_3p/LIHC_frequence.txt\n",
            "/content/drive/MyDrive/Colab Notebooks/enriquecimento/Endeavour/MAF_lists_freq_3p/LUAD_frequence.txt\n",
            "/content/drive/MyDrive/Colab Notebooks/enriquecimento/Endeavour/MAF_lists_freq_3p/LUSC_frequence.txt\n",
            "/content/drive/MyDrive/Colab Notebooks/enriquecimento/Endeavour/MAF_lists_freq_3p/OV_frequence.txt\n",
            "/content/drive/MyDrive/Colab Notebooks/enriquecimento/Endeavour/MAF_lists_freq_3p/PAAD_frequence.txt\n",
            "/content/drive/MyDrive/Colab Notebooks/enriquecimento/Endeavour/MAF_lists_freq_3p/PCPG_frequence.txt\n",
            "/content/drive/MyDrive/Colab Notebooks/enriquecimento/Endeavour/MAF_lists_freq_3p/PRAD_frequence.txt\n",
            "/content/drive/MyDrive/Colab Notebooks/enriquecimento/Endeavour/MAF_lists_freq_3p/SKCM_frequence.txt\n",
            "/content/drive/MyDrive/Colab Notebooks/enriquecimento/Endeavour/MAF_lists_freq_3p/STAD_frequence.txt\n",
            "/content/drive/MyDrive/Colab Notebooks/enriquecimento/Endeavour/MAF_lists_freq_3p/THCA_frequence.txt\n",
            "/content/drive/MyDrive/Colab Notebooks/enriquecimento/Endeavour/MAF_lists_freq_3p/UCEC_frequence.txt\n",
            "/content/drive/MyDrive/Colab Notebooks/enriquecimento/Endeavour/MAF_lists_freq_3p/UCS_frequence.txt\n",
            "/content/drive/MyDrive/Colab Notebooks/enriquecimento/Endeavour/MAF_lists_freq_5p/ACC_frequence.txt\n",
            "/content/drive/MyDrive/Colab Notebooks/enriquecimento/Endeavour/MAF_lists_freq_5p/BLCA_frequence.txt\n",
            "/content/drive/MyDrive/Colab Notebooks/enriquecimento/Endeavour/MAF_lists_freq_5p/BRCA_frequence.txt\n",
            "/content/drive/MyDrive/Colab Notebooks/enriquecimento/Endeavour/MAF_lists_freq_5p/CESC_frequence.txt\n",
            "/content/drive/MyDrive/Colab Notebooks/enriquecimento/Endeavour/MAF_lists_freq_5p/COAD_frequence.txt\n",
            "/content/drive/MyDrive/Colab Notebooks/enriquecimento/Endeavour/MAF_lists_freq_5p/GBM_frequence.txt\n",
            "/content/drive/MyDrive/Colab Notebooks/enriquecimento/Endeavour/MAF_lists_freq_5p/HNSC_frequence.txt\n",
            "/content/drive/MyDrive/Colab Notebooks/enriquecimento/Endeavour/MAF_lists_freq_5p/KICH_frequence.txt\n",
            "/content/drive/MyDrive/Colab Notebooks/enriquecimento/Endeavour/MAF_lists_freq_5p/KIRC_frequence.txt\n",
            "/content/drive/MyDrive/Colab Notebooks/enriquecimento/Endeavour/MAF_lists_freq_5p/KIRP_frequence.txt\n",
            "/content/drive/MyDrive/Colab Notebooks/enriquecimento/Endeavour/MAF_lists_freq_5p/LGG_frequence.txt\n",
            "/content/drive/MyDrive/Colab Notebooks/enriquecimento/Endeavour/MAF_lists_freq_5p/LIHC_frequence.txt\n",
            "/content/drive/MyDrive/Colab Notebooks/enriquecimento/Endeavour/MAF_lists_freq_5p/LUAD_frequence.txt\n",
            "/content/drive/MyDrive/Colab Notebooks/enriquecimento/Endeavour/MAF_lists_freq_5p/LUSC_frequence.txt\n",
            "/content/drive/MyDrive/Colab Notebooks/enriquecimento/Endeavour/MAF_lists_freq_5p/OV_frequence.txt\n",
            "/content/drive/MyDrive/Colab Notebooks/enriquecimento/Endeavour/MAF_lists_freq_5p/PAAD_frequence.txt\n",
            "/content/drive/MyDrive/Colab Notebooks/enriquecimento/Endeavour/MAF_lists_freq_5p/PCPG_frequence.txt\n",
            "/content/drive/MyDrive/Colab Notebooks/enriquecimento/Endeavour/MAF_lists_freq_5p/PRAD_frequence.txt\n",
            "/content/drive/MyDrive/Colab Notebooks/enriquecimento/Endeavour/MAF_lists_freq_5p/SKCM_frequence.txt\n",
            "/content/drive/MyDrive/Colab Notebooks/enriquecimento/Endeavour/MAF_lists_freq_5p/STAD_frequence.txt\n",
            "/content/drive/MyDrive/Colab Notebooks/enriquecimento/Endeavour/MAF_lists_freq_5p/THCA_frequence.txt\n",
            "/content/drive/MyDrive/Colab Notebooks/enriquecimento/Endeavour/MAF_lists_freq_5p/UCEC_frequence.txt\n",
            "/content/drive/MyDrive/Colab Notebooks/enriquecimento/Endeavour/MAF_lists_freq_5p/UCS_frequence.txt\n",
            "/content/drive/MyDrive/Colab Notebooks/enriquecimento/Endeavour/MAF_lists_freq_10p/ACC_frequence.txt\n",
            "/content/drive/MyDrive/Colab Notebooks/enriquecimento/Endeavour/MAF_lists_freq_10p/BLCA_frequence.txt\n",
            "/content/drive/MyDrive/Colab Notebooks/enriquecimento/Endeavour/MAF_lists_freq_10p/BRCA_frequence.txt\n",
            "/content/drive/MyDrive/Colab Notebooks/enriquecimento/Endeavour/MAF_lists_freq_10p/CESC_frequence.txt\n",
            "/content/drive/MyDrive/Colab Notebooks/enriquecimento/Endeavour/MAF_lists_freq_10p/COAD_frequence.txt\n",
            "/content/drive/MyDrive/Colab Notebooks/enriquecimento/Endeavour/MAF_lists_freq_10p/GBM_frequence.txt\n",
            "/content/drive/MyDrive/Colab Notebooks/enriquecimento/Endeavour/MAF_lists_freq_10p/HNSC_frequence.txt\n",
            "/content/drive/MyDrive/Colab Notebooks/enriquecimento/Endeavour/MAF_lists_freq_10p/KICH_frequence.txt\n",
            "/content/drive/MyDrive/Colab Notebooks/enriquecimento/Endeavour/MAF_lists_freq_10p/KIRC_frequence.txt\n",
            "/content/drive/MyDrive/Colab Notebooks/enriquecimento/Endeavour/MAF_lists_freq_10p/KIRP_frequence.txt\n",
            "/content/drive/MyDrive/Colab Notebooks/enriquecimento/Endeavour/MAF_lists_freq_10p/LGG_frequence.txt\n",
            "/content/drive/MyDrive/Colab Notebooks/enriquecimento/Endeavour/MAF_lists_freq_10p/LIHC_frequence.txt\n",
            "/content/drive/MyDrive/Colab Notebooks/enriquecimento/Endeavour/MAF_lists_freq_10p/LUAD_frequence.txt\n",
            "/content/drive/MyDrive/Colab Notebooks/enriquecimento/Endeavour/MAF_lists_freq_10p/LUSC_frequence.txt\n",
            "/content/drive/MyDrive/Colab Notebooks/enriquecimento/Endeavour/MAF_lists_freq_10p/OV_frequence.txt\n",
            "/content/drive/MyDrive/Colab Notebooks/enriquecimento/Endeavour/MAF_lists_freq_10p/PAAD_frequence.txt\n",
            "/content/drive/MyDrive/Colab Notebooks/enriquecimento/Endeavour/MAF_lists_freq_10p/PCPG_frequence.txt\n",
            "/content/drive/MyDrive/Colab Notebooks/enriquecimento/Endeavour/MAF_lists_freq_10p/PRAD_frequence.txt\n",
            "/content/drive/MyDrive/Colab Notebooks/enriquecimento/Endeavour/MAF_lists_freq_10p/SKCM_frequence.txt\n",
            "/content/drive/MyDrive/Colab Notebooks/enriquecimento/Endeavour/MAF_lists_freq_10p/STAD_frequence.txt\n",
            "/content/drive/MyDrive/Colab Notebooks/enriquecimento/Endeavour/MAF_lists_freq_10p/THCA_frequence.txt\n",
            "/content/drive/MyDrive/Colab Notebooks/enriquecimento/Endeavour/MAF_lists_freq_10p/UCEC_frequence.txt\n",
            "/content/drive/MyDrive/Colab Notebooks/enriquecimento/Endeavour/MAF_lists_freq_10p/UCS_frequence.txt\n"
          ],
          "name": "stdout"
        }
      ]
    },
    {
      "cell_type": "code",
      "metadata": {
        "id": "7JQOUIimvtWE"
      },
      "source": [
        ""
      ],
      "execution_count": null,
      "outputs": []
    }
  ]
}