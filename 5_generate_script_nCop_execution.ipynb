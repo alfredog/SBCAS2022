{
  "nbformat": 4,
  "nbformat_minor": 0,
  "metadata": {
    "colab": {
      "name": "5 - generate_script_nCop_execution.ipynb",
      "provenance": [],
      "collapsed_sections": [],
      "mount_file_id": "1fz-30tExr7F8Erffn0FhTzAe8VB-v1k0",
      "authorship_tag": "ABX9TyMN8jXqQ3jVzqDktpta8ssL"
    },
    "kernelspec": {
      "name": "python3",
      "display_name": "Python 3"
    },
    "language_info": {
      "name": "python"
    }
  },
  "cells": [
    {
      "cell_type": "code",
      "metadata": {
        "id": "zjE-9ffkbx9e"
      },
      "source": [
        "import pandas as pd\n",
        "import os"
      ],
      "execution_count": null,
      "outputs": []
    },
    {
      "cell_type": "code",
      "metadata": {
        "id": "mJbFEekLb4Su"
      },
      "source": [
        "path_maf = '/home/guilherme/Codes/enrichment/nCOP_BSB/Inputs/MAFs/'\n",
        "path_net = '/home/guilherme/Codes/enrichment/nCOP_BSB/Inputs/Nets/'\n",
        "path_weights_3p = '/home/guilherme/Codes/enrichment/nCOP_BSB/Inputs/weights/3p/'\n",
        "path_weights_5p = '/home/guilherme/Codes/enrichment/nCOP_BSB/Inputs/weights/5p/'\n",
        "path_weights_10p = '/home/guilherme/Codes/enrichment/nCOP_BSB/Inputs/weights/10p/'\n",
        "\n",
        "path_maf_cluster = '/home/alfredog/Codes/Methods/nCOP_BSB/Inputs/MAFs/'\n",
        "path_net_cluster = '/home/alfredog/Codes/Methods/nCOP_BSB/Inputs/Nets/'\n",
        "path_weights_3p_cluster = '/home/alfredog/Codes/Methods/enrichment/nCOP_BSB/Inputs/weights/3p/'\n",
        "path_weights_5p_cluster = '/home/alfredog/Codes/Methods/enrichment/nCOP_BSB/Inputs/weights/5p/'\n",
        "path_weights_10p_cluster = '/home/alfredog/Codes/Methods/enrichment/nCOP_BSB/Inputs/weights/10p/'\n",
        "\n",
        "\n",
        "\n",
        "path_nCopScripts = '/content/drive/MyDrive/Colab Notebooks/enriquecimento/Endeavour/nCopScripts/'\n",
        "path_mafs_nCop = '/content/drive/MyDrive/Colab Notebooks/mafs_nCop/'"
      ],
      "execution_count": null,
      "outputs": []
    },
    {
      "cell_type": "code",
      "metadata": {
        "id": "m2eMvrVgdC-1"
      },
      "source": [
        "\"\"\"\n",
        "Gera uma lista com o nome de todos os arquivos do diretório (mafs ou redes)\n",
        "\"\"\"\n",
        "def file_list_in_dir(path):\n",
        "    l_files = []\n",
        "    for _, _, file in os.walk(path):\n",
        "        l_files = file\n",
        "    return l_files\n",
        "\n",
        "def escreveListaEmArquivo(lista, path, nome):\n",
        "    nome_arquivo = path + nome\n",
        "    print(nome_arquivo)\n",
        "    arquivo = open(nome_arquivo, \"a\")\n",
        "    for i in lista:\n",
        "        arquivo.write(str(i)+'\\n')\n",
        "    arquivo.close()\n",
        "\n",
        "def geraScript(path_maf, path_net, path_mafs_nCop, path_weights_p, path_nCopScripts, nameScripts):\n",
        "    \n",
        "    \"\"\"\n",
        "    ./run_nCOP /home/guilherme/Codes/Methods/nCOP/Inputs/HPRD.txt /home/guilherme/Codes/Methods/nCOP/Inputs/GBM145.txt weights=/home/guilherme/Codes/enrichment/nCOP/Inputs/pesos/endeavour_result_hprd_gbm_reactome.txt alpha=0.5 output_prefix=my_output_GBM45_hprd_enric\n",
        "\n",
        "\n",
        "    ./run_nCOP /home/guilherme/Codes/Methods/nCOP/Inputs/HPRD.txt /home/guilherme/Codes/Methods/nCOP/Inputs/GBM145.txt alpha=0.5 output_prefix=my_output_GBM45_hprd\n",
        "    \"\"\"\n",
        "\n",
        "    \"\"\"\n",
        "    script_enri = './run_nCOP $maf weights=$weight alpha=0.5 output_prefix=saida'\n",
        "    script_normal = './run_nCOP %net $maf alpha=0.5 output_prefix=saida'\n",
        "    \"\"\"\n",
        "    l_mafs_nCop = file_list_in_dir(path_mafs_nCop)\n",
        "\n",
        "    linhas = []\n",
        "    for mafName in l_mafs_nCop:\n",
        "        script_enri = './run_nCOP '\n",
        "        script_normal = './run_nCOP '\n",
        "\n",
        "        net = path_net + 'HPRD.txt '\n",
        "        maf = path_maf + mafName + ' '\n",
        "        tp_cancer = mafName.split('_')[0].upper()\n",
        "        \n",
        "        weight = 'weights=' + path_weights_p + 'weights_'+ tp_cancer + '.txt '\n",
        "        output_enri = 'output_prefix=my_output_' + tp_cancer + '_' + path_weights_p.split('/')[-2] + '_enric'\n",
        "        output_normal = 'output_prefix=my_output_' + tp_cancer + '_' + path_weights_p.split('/')[-2]\n",
        "        alpha = 'alpha=0.5 '\n",
        "\n",
        "        script_enri = script_enri + net + maf + weight + alpha +output_enri\n",
        "        script_normal = script_normal + net + maf + alpha + output_normal\n",
        "\n",
        "        linhas.append(script_enri)\n",
        "        linhas.append(script_normal)\n",
        "\n",
        "    nome_arq = nameScripts+path_weights_p.split('/')[-2]+'.sh'\n",
        "\n",
        "    escreveListaEmArquivo(linhas, path_nCopScripts, nome_arq)\n",
        "\n"
      ],
      "execution_count": null,
      "outputs": []
    },
    {
      "cell_type": "code",
      "metadata": {
        "colab": {
          "base_uri": "https://localhost:8080/"
        },
        "id": "72PY_erGdFYd",
        "outputId": "f46e932f-0510-4f70-e549-228dff687b08"
      },
      "source": [
        "geraScript(path_maf, path_net, path_mafs_nCop, path_weights_3p, path_nCopScripts, 'script_notebook_enric_')\n",
        "geraScript(path_maf, path_net, path_mafs_nCop, path_weights_5p, path_nCopScripts, 'script_notebook_enric_')\n",
        "geraScript(path_maf, path_net, path_mafs_nCop, path_weights_10p, path_nCopScripts, 'script_notebook_enric_')"
      ],
      "execution_count": null,
      "outputs": [
        {
          "output_type": "stream",
          "text": [
            "/content/drive/MyDrive/Colab Notebooks/enriquecimento/Endeavour/nCopScripts/script_notebook_enric_3p.sh\n",
            "/content/drive/MyDrive/Colab Notebooks/enriquecimento/Endeavour/nCopScripts/script_notebook_enric_5p.sh\n",
            "/content/drive/MyDrive/Colab Notebooks/enriquecimento/Endeavour/nCopScripts/script_notebook_enric_10p.sh\n"
          ],
          "name": "stdout"
        }
      ]
    },
    {
      "cell_type": "code",
      "metadata": {
        "colab": {
          "base_uri": "https://localhost:8080/"
        },
        "id": "1VtmKhZQWhd4",
        "outputId": "591d3e2a-23b2-4e83-86f1-ca7cc2ca66c0"
      },
      "source": [
        "geraScript(path_maf_cluster, path_net_cluster, path_mafs_nCop, path_weights_3p_cluster, path_nCopScripts, 'script_cluster_enric_')\n",
        "geraScript(path_maf_cluster, path_net_cluster, path_mafs_nCop, path_weights_5p_cluster, path_nCopScripts, 'script_cluster_enric_')\n",
        "geraScript(path_maf_cluster, path_net_cluster, path_mafs_nCop, path_weights_10p_cluster, path_nCopScripts, 'script_cluster_enric_')"
      ],
      "execution_count": null,
      "outputs": [
        {
          "output_type": "stream",
          "text": [
            "/content/drive/MyDrive/Colab Notebooks/enriquecimento/Endeavour/nCopScripts/script_cluster_enric_3p.sh\n",
            "/content/drive/MyDrive/Colab Notebooks/enriquecimento/Endeavour/nCopScripts/script_cluster_enric_5p.sh\n",
            "/content/drive/MyDrive/Colab Notebooks/enriquecimento/Endeavour/nCopScripts/script_cluster_enric_10p.sh\n"
          ],
          "name": "stdout"
        }
      ]
    },
    {
      "cell_type": "code",
      "metadata": {
        "colab": {
          "base_uri": "https://localhost:8080/"
        },
        "id": "zBt3MOsAio7f",
        "outputId": "b83a5689-1e3a-4cca-e269-90005f10528f"
      },
      "source": [
        "path = '/home/guilherme/Codes/enrichment/nCOP_BSB/Inputs/weights/3p/'\n",
        "print(path.split('/')[-2])"
      ],
      "execution_count": null,
      "outputs": [
        {
          "output_type": "stream",
          "text": [
            "3P\n"
          ],
          "name": "stdout"
        }
      ]
    },
    {
      "cell_type": "code",
      "metadata": {
        "id": "ha4ayU5yiuiX"
      },
      "source": [
        ""
      ],
      "execution_count": null,
      "outputs": []
    }
  ]
}